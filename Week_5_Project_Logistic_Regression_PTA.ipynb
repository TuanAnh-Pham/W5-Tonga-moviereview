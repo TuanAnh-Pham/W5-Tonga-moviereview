{
  "nbformat": 4,
  "nbformat_minor": 0,
  "metadata": {
    "colab": {
      "name": "Week 5  Project-Logistic Regression-PTA.ipynb",
      "provenance": [],
      "collapsed_sections": [
        "YkG5CqnzTpT_",
        "F7y8t-8oT0Cx",
        "4xXMKpX9qv4G",
        "kHlHez82W14V"
      ],
      "toc_visible": true
    },
    "kernelspec": {
      "name": "python3",
      "display_name": "Python 3"
    }
  },
  "cells": [
    {
      "cell_type": "code",
      "metadata": {
        "colab_type": "code",
        "id": "LJZEGgwaasOu",
        "outputId": "0894081a-65ae-489b-c044-6b82bcd8fe61",
        "colab": {
          "base_uri": "https://localhost:8080/",
          "height": 1000
        }
      },
      "source": [
        "stop"
      ],
      "execution_count": 0,
      "outputs": [
        {
          "output_type": "execute_result",
          "data": {
            "text/plain": [
              "['i',\n",
              " 'me',\n",
              " 'my',\n",
              " 'myself',\n",
              " 'we',\n",
              " 'our',\n",
              " 'our',\n",
              " 'ourselv',\n",
              " 'you',\n",
              " \"you'r\",\n",
              " \"you'v\",\n",
              " \"you'll\",\n",
              " \"you'd\",\n",
              " 'your',\n",
              " 'your',\n",
              " 'yourself',\n",
              " 'yourselv',\n",
              " 'he',\n",
              " 'him',\n",
              " 'hi',\n",
              " 'himself',\n",
              " 'she',\n",
              " \"she'\",\n",
              " 'her',\n",
              " 'her',\n",
              " 'herself',\n",
              " 'it',\n",
              " \"it'\",\n",
              " 'it',\n",
              " 'itself',\n",
              " 'they',\n",
              " 'them',\n",
              " 'their',\n",
              " 'their',\n",
              " 'themselv',\n",
              " 'what',\n",
              " 'which',\n",
              " 'who',\n",
              " 'whom',\n",
              " 'thi',\n",
              " 'that',\n",
              " \"that'll\",\n",
              " 'these',\n",
              " 'those',\n",
              " 'am',\n",
              " 'is',\n",
              " 'are',\n",
              " 'wa',\n",
              " 'were',\n",
              " 'be',\n",
              " 'been',\n",
              " 'be',\n",
              " 'have',\n",
              " 'ha',\n",
              " 'had',\n",
              " 'have',\n",
              " 'do',\n",
              " 'doe',\n",
              " 'did',\n",
              " 'do',\n",
              " 'a',\n",
              " 'an',\n",
              " 'the',\n",
              " 'and',\n",
              " 'but',\n",
              " 'if',\n",
              " 'or',\n",
              " 'becaus',\n",
              " 'as',\n",
              " 'until',\n",
              " 'while',\n",
              " 'of',\n",
              " 'at',\n",
              " 'by',\n",
              " 'for',\n",
              " 'with',\n",
              " 'about',\n",
              " 'against',\n",
              " 'between',\n",
              " 'into',\n",
              " 'through',\n",
              " 'dure',\n",
              " 'befor',\n",
              " 'after',\n",
              " 'abov',\n",
              " 'below',\n",
              " 'to',\n",
              " 'from',\n",
              " 'up',\n",
              " 'down',\n",
              " 'in',\n",
              " 'out',\n",
              " 'on',\n",
              " 'off',\n",
              " 'over',\n",
              " 'under',\n",
              " 'again',\n",
              " 'further',\n",
              " 'then',\n",
              " 'onc',\n",
              " 'here',\n",
              " 'there',\n",
              " 'when',\n",
              " 'where',\n",
              " 'whi',\n",
              " 'how',\n",
              " 'all',\n",
              " 'ani',\n",
              " 'both',\n",
              " 'each',\n",
              " 'few',\n",
              " 'more',\n",
              " 'most',\n",
              " 'other',\n",
              " 'some',\n",
              " 'such',\n",
              " 'no',\n",
              " 'nor',\n",
              " 'not',\n",
              " 'onli',\n",
              " 'own',\n",
              " 'same',\n",
              " 'so',\n",
              " 'than',\n",
              " 'too',\n",
              " 'veri',\n",
              " 's',\n",
              " 't',\n",
              " 'can',\n",
              " 'will',\n",
              " 'just',\n",
              " 'don',\n",
              " \"don't\",\n",
              " 'should',\n",
              " \"should'v\",\n",
              " 'now',\n",
              " 'd',\n",
              " 'll',\n",
              " 'm',\n",
              " 'o',\n",
              " 're',\n",
              " 've',\n",
              " 'y',\n",
              " 'ain',\n",
              " 'aren',\n",
              " \"aren't\",\n",
              " 'couldn',\n",
              " \"couldn't\",\n",
              " 'didn',\n",
              " \"didn't\",\n",
              " 'doesn',\n",
              " \"doesn't\",\n",
              " 'hadn',\n",
              " \"hadn't\",\n",
              " 'hasn',\n",
              " \"hasn't\",\n",
              " 'haven',\n",
              " \"haven't\",\n",
              " 'isn',\n",
              " \"isn't\",\n",
              " 'ma',\n",
              " 'mightn',\n",
              " \"mightn't\",\n",
              " 'mustn',\n",
              " \"mustn't\",\n",
              " 'needn',\n",
              " \"needn't\",\n",
              " 'shan',\n",
              " \"shan't\",\n",
              " 'shouldn',\n",
              " \"shouldn't\",\n",
              " 'wasn',\n",
              " \"wasn't\",\n",
              " 'weren',\n",
              " \"weren't\",\n",
              " 'won',\n",
              " \"won't\",\n",
              " 'wouldn',\n",
              " \"wouldn't\"]"
            ]
          },
          "metadata": {
            "tags": []
          },
          "execution_count": 89
        }
      ]
    },
    {
      "cell_type": "markdown",
      "metadata": {
        "id": "e_9Gbcgq1OQs",
        "colab_type": "text"
      },
      "source": [
        "# Predict sentiment score of moview review with Logistic Regression"
      ]
    },
    {
      "cell_type": "markdown",
      "metadata": {
        "id": "YkG5CqnzTpT_",
        "colab_type": "text"
      },
      "source": [
        "## 1.Import data & Basic library"
      ]
    },
    {
      "cell_type": "code",
      "metadata": {
        "id": "kQpoG7bO3-YY",
        "colab_type": "code",
        "outputId": "a66fd284-a0da-427f-a5a8-49b630e894e7",
        "colab": {
          "base_uri": "https://localhost:8080/"
        }
      },
      "source": [
        "from google.colab import drive\n",
        "drive.mount('/content/drive')"
      ],
      "execution_count": 0,
      "outputs": [
        {
          "output_type": "stream",
          "text": [
            "Drive already mounted at /content/drive; to attempt to forcibly remount, call drive.mount(\"/content/drive\", force_remount=True).\n"
          ],
          "name": "stdout"
        }
      ]
    },
    {
      "cell_type": "code",
      "metadata": {
        "id": "dp9O-nm03ZZK",
        "colab_type": "code",
        "colab": {}
      },
      "source": [
        "from sklearn.linear_model import LinearRegression\n",
        "from sklearn.metrics import mean_squared_error\n",
        "import numpy as np\n",
        "import matplotlib.pyplot as plt\n",
        "import pandas as pd\n",
        "import seaborn as sns\n",
        "sns.set()"
      ],
      "execution_count": 0,
      "outputs": []
    },
    {
      "cell_type": "code",
      "metadata": {
        "id": "oJReFmBO33kW",
        "colab_type": "code",
        "colab": {}
      },
      "source": [
        "df = pd.read_csv('/content/drive/My Drive/FTMLE - Tonga/Data/movie_review.csv',encoding='utf-8', sep='\\t')"
      ],
      "execution_count": 0,
      "outputs": []
    },
    {
      "cell_type": "code",
      "metadata": {
        "id": "kmpUEs2y5rpv",
        "colab_type": "code",
        "outputId": "4f1455df-2178-47c6-8ae2-e2e29bc98e55",
        "colab": {
          "base_uri": "https://localhost:8080/"
        }
      },
      "source": [
        "# Check sample of the dataset\n",
        "df.sample(5)"
      ],
      "execution_count": 0,
      "outputs": [
        {
          "output_type": "execute_result",
          "data": {
            "text/html": [
              "<div>\n",
              "<style scoped>\n",
              "    .dataframe tbody tr th:only-of-type {\n",
              "        vertical-align: middle;\n",
              "    }\n",
              "\n",
              "    .dataframe tbody tr th {\n",
              "        vertical-align: top;\n",
              "    }\n",
              "\n",
              "    .dataframe thead th {\n",
              "        text-align: right;\n",
              "    }\n",
              "</style>\n",
              "<table border=\"1\" class=\"dataframe\">\n",
              "  <thead>\n",
              "    <tr style=\"text-align: right;\">\n",
              "      <th></th>\n",
              "      <th>id</th>\n",
              "      <th>review</th>\n",
              "      <th>sentiment</th>\n",
              "    </tr>\n",
              "  </thead>\n",
              "  <tbody>\n",
              "    <tr>\n",
              "      <th>11403</th>\n",
              "      <td>9886_4</td>\n",
              "      <td>This is Peter Falk's film. Period.&lt;br /&gt;&lt;br /&gt;...</td>\n",
              "      <td>0</td>\n",
              "    </tr>\n",
              "    <tr>\n",
              "      <th>10858</th>\n",
              "      <td>10929_1</td>\n",
              "      <td>This movie was the beatliest mormon movie made...</td>\n",
              "      <td>0</td>\n",
              "    </tr>\n",
              "    <tr>\n",
              "      <th>18248</th>\n",
              "      <td>9648_8</td>\n",
              "      <td>I liked this film very much. The story jumps b...</td>\n",
              "      <td>1</td>\n",
              "    </tr>\n",
              "    <tr>\n",
              "      <th>4413</th>\n",
              "      <td>3593_8</td>\n",
              "      <td>Michelle Rodriguez plays Diana, a high school ...</td>\n",
              "      <td>1</td>\n",
              "    </tr>\n",
              "    <tr>\n",
              "      <th>13821</th>\n",
              "      <td>11905_8</td>\n",
              "      <td>William Castle is notorious among horror fans ...</td>\n",
              "      <td>1</td>\n",
              "    </tr>\n",
              "  </tbody>\n",
              "</table>\n",
              "</div>"
            ],
            "text/plain": [
              "            id                                             review  sentiment\n",
              "11403   9886_4  This is Peter Falk's film. Period.<br /><br />...          0\n",
              "10858  10929_1  This movie was the beatliest mormon movie made...          0\n",
              "18248   9648_8  I liked this film very much. The story jumps b...          1\n",
              "4413    3593_8  Michelle Rodriguez plays Diana, a high school ...          1\n",
              "13821  11905_8  William Castle is notorious among horror fans ...          1"
            ]
          },
          "metadata": {
            "tags": []
          },
          "execution_count": 93
        }
      ]
    },
    {
      "cell_type": "markdown",
      "metadata": {
        "id": "F7y8t-8oT0Cx",
        "colab_type": "text"
      },
      "source": [
        "## 2.Overview of the data\n",
        "\n",
        "\n",
        "\n"
      ]
    },
    {
      "cell_type": "code",
      "metadata": {
        "id": "LTNjpY26UfPd",
        "colab_type": "code",
        "outputId": "5a743e8e-995f-489e-915c-e088bd5aeeee",
        "colab": {
          "base_uri": "https://localhost:8080/"
        }
      },
      "source": [
        "# Check content of 1 comment for the meaning of sentiment\n",
        "# 0 means negative ; 1 means positive\n",
        "df.loc[9715,'review']\n"
      ],
      "execution_count": 0,
      "outputs": [
        {
          "output_type": "execute_result",
          "data": {
            "text/plain": [
              "'Three giant sabretooth tigers(..created in a laboratory from mitochondrial DNA, a \\\\genetic breakthrough\\\\\" derived from fossil material)are on the rampage accidentally set free through a series of events(such as a computer geek\\'s introduced virus in order to unlock security measures keeping the resort novelty shops closed during construction & a security guard\\'s leaving a gate open while searching for the missing page from a porn mag that flew away in the breeze)that threaten the lives of those it comes in contact with. The tigers are always hungry, but are unable to digest what they eat. So pretty much the tigers just rip their prey to shreds. Victims include a group of college kids(..the stereotypes include a goth girl, jock and tech nerd), security personnel, and those somewhat developed rich scoundrels who we can easily despise and wish horrible death.<br /><br />Rounding out a series of bad sci-fi channel flicks, Attack of the Sabretooth has some of the most wretched computer simulated animals I\\'ve seen yet. And, the final death sequence is so putridly presented, you\\'ll demand within the deepest recesses of your soul the time spent on this truly awful exercise in the creature feature canon. There\\'s some good dark humor deriving from heads being torn from necks, but even here the prosthetic work is unconvincing. Prosthetic body parts and blood aplenty as victims are pounced upon, crying for help and receiving none. I\\'m starting to sound like a broken record, repeating myself in every user comment I write for these sci-fi channel flicks. I think maybe it\\'s time to move on to other kinds of cinema. Robert Carradine has a role as a ruthless businessman who is being wooed by his truly repellent ex-brother-in-law, Nicholas Bell, the one opening \\\\\"Primal Park\\\\\", a resort / zoo featuring genetically created sabretooth tigers as it\\'s major attraction. Stacy Haiduk, still quite yummy, is a security officer who attempts to convince Bell to get the investors he hopes to goad into putting money in his multi-million dollar project to leave the island. Brian Wimmer is Haiduck\\'s lover and his role is a mechanic keeping operations running smoothly.<br /><br />Bell\\'s fate at the end, resulting from a dislodged tooth from a sabretooth tiger statue is the pits. Carradine spends a great deal of the film taunting Bell, his arch nemesis. The tiger\\'s point-of-view shows humans in a bright color as it moves towards them. The film ultimately consists of characters walking through darkened corridors(..the tech nerd\\'s virus cut off the power)worried for their safety. The college kids commit breaking and entering to score certain items needed(..it\\'s a scavenger hunt type of activity)to enter a fraternity / sorority. The cast playing these kids do not rise above their clichÃ©s.\"'"
            ]
          },
          "metadata": {
            "tags": []
          },
          "execution_count": 94
        }
      ]
    },
    {
      "cell_type": "code",
      "metadata": {
        "id": "OAe38mWUhJjE",
        "colab_type": "code",
        "outputId": "76dfaca4-0856-446c-ef00-b82092d71229",
        "colab": {
          "base_uri": "https://localhost:8080/"
        }
      },
      "source": [
        "df.info()\n",
        "# There is no missing data"
      ],
      "execution_count": 0,
      "outputs": [
        {
          "output_type": "stream",
          "text": [
            "<class 'pandas.core.frame.DataFrame'>\n",
            "RangeIndex: 22500 entries, 0 to 22499\n",
            "Data columns (total 3 columns):\n",
            " #   Column     Non-Null Count  Dtype \n",
            "---  ------     --------------  ----- \n",
            " 0   id         22500 non-null  object\n",
            " 1   review     22500 non-null  object\n",
            " 2   sentiment  22500 non-null  int64 \n",
            "dtypes: int64(1), object(2)\n",
            "memory usage: 527.5+ KB\n"
          ],
          "name": "stdout"
        }
      ]
    },
    {
      "cell_type": "code",
      "metadata": {
        "id": "7LGOgqehgCt8",
        "colab_type": "code",
        "outputId": "a3f14f60-f3f5-49a2-b432-ec7369741b19",
        "colab": {
          "base_uri": "https://localhost:8080/"
        }
      },
      "source": [
        "# read 1  review to check the meaning of sentiment \n",
        "list(df.loc[df['id'] == '8369_8','review'])\n",
        "\n",
        "# The review also contains some special character like '<br />', "
      ],
      "execution_count": 0,
      "outputs": [
        {
          "output_type": "execute_result",
          "data": {
            "text/plain": [
              "['Hrm-I think that line was from the old movie posters.<br /><br />This is a dumb movie that seems to have been translated from some language that was totally unfamiliar to the translator. Here\\'s a tip: Any movie that starts with a black screen and text reading \\\\In the future...\\\\\" is going to be fun. This means that the premise is so implausible that they have to explain it to you.<br /><br />In this case, \\\\\"In the future...\\\\\" means that, instead of fighting wars, nations have guys climb into giant robots and duke it out to determine, well, that\\'s never terribly clear, but it\\'s probably something really important. There are good guys (obviously capitalists, i.e. \\\\\"us\\\\\") and bad guys (Commies!) and there are big stop-motion robots.<br /><br />Sadly, the effects budget was pretty slim, so we don\\'t get to see a lot of the big robots. There are plenty of cheap looking interior scenes, and then a big space fight near the end. The space fight is especially nice, as it serves precisely no purpose other than the blow the remainder of the effects budget.<br /><br />With said money now spent, the climactic fight degenerates into (and I\\'m not making this up) two guys hitting each other with sticks. I can always get a laugh in a bar by re-enacting the final scene, complete with a last line guaranteed to leave any audience scratching their heads.<br /><br />Like I said-it\\'s dumb. That\\'s why I bought the tape.\"']"
            ]
          },
          "metadata": {
            "tags": []
          },
          "execution_count": 96
        }
      ]
    },
    {
      "cell_type": "code",
      "metadata": {
        "id": "xRfDTw576qHP",
        "colab_type": "code",
        "outputId": "521639a7-a25c-4b19-c4d6-69f193d74d17",
        "colab": {
          "base_uri": "https://localhost:8080/"
        }
      },
      "source": [
        "df['sentiment'].value_counts()\n",
        "\n",
        "# There is only 2 tye of sentiment, 0 and 1. \n",
        "# 0 means negative ; 1 means positive"
      ],
      "execution_count": 0,
      "outputs": [
        {
          "output_type": "execute_result",
          "data": {
            "text/plain": [
              "1    11278\n",
              "0    11222\n",
              "Name: sentiment, dtype: int64"
            ]
          },
          "metadata": {
            "tags": []
          },
          "execution_count": 97
        }
      ]
    },
    {
      "cell_type": "code",
      "metadata": {
        "id": "wq1d_GrV7p8_",
        "colab_type": "code",
        "colab": {}
      },
      "source": [
        "# Check for duplicate id ->  No duplicate found\n",
        "df['id'].count() == df['id'].nunique()\n",
        "\n",
        "# It does not support our prediction model so we can remove it \n",
        "df.drop(labels='id',axis=1,inplace = True)"
      ],
      "execution_count": 0,
      "outputs": []
    },
    {
      "cell_type": "code",
      "metadata": {
        "id": "I8KGO3zapLQ9",
        "colab_type": "code",
        "outputId": "403509b8-9c9a-49ef-8fea-9ba3d1029f2d",
        "colab": {
          "base_uri": "https://localhost:8080/"
        }
      },
      "source": [
        "df"
      ],
      "execution_count": 0,
      "outputs": [
        {
          "output_type": "execute_result",
          "data": {
            "text/html": [
              "<div>\n",
              "<style scoped>\n",
              "    .dataframe tbody tr th:only-of-type {\n",
              "        vertical-align: middle;\n",
              "    }\n",
              "\n",
              "    .dataframe tbody tr th {\n",
              "        vertical-align: top;\n",
              "    }\n",
              "\n",
              "    .dataframe thead th {\n",
              "        text-align: right;\n",
              "    }\n",
              "</style>\n",
              "<table border=\"1\" class=\"dataframe\">\n",
              "  <thead>\n",
              "    <tr style=\"text-align: right;\">\n",
              "      <th></th>\n",
              "      <th>review</th>\n",
              "      <th>sentiment</th>\n",
              "    </tr>\n",
              "  </thead>\n",
              "  <tbody>\n",
              "    <tr>\n",
              "      <th>0</th>\n",
              "      <td>With all this stuff going down at the moment w...</td>\n",
              "      <td>1</td>\n",
              "    </tr>\n",
              "    <tr>\n",
              "      <th>1</th>\n",
              "      <td>\\The Classic War of the Worlds\\\" by Timothy Hi...</td>\n",
              "      <td>1</td>\n",
              "    </tr>\n",
              "    <tr>\n",
              "      <th>2</th>\n",
              "      <td>The film starts with a manager (Nicholas Bell)...</td>\n",
              "      <td>0</td>\n",
              "    </tr>\n",
              "    <tr>\n",
              "      <th>3</th>\n",
              "      <td>It must be assumed that those who praised this...</td>\n",
              "      <td>0</td>\n",
              "    </tr>\n",
              "    <tr>\n",
              "      <th>4</th>\n",
              "      <td>Superbly trashy and wondrously unpretentious 8...</td>\n",
              "      <td>1</td>\n",
              "    </tr>\n",
              "    <tr>\n",
              "      <th>...</th>\n",
              "      <td>...</td>\n",
              "      <td>...</td>\n",
              "    </tr>\n",
              "    <tr>\n",
              "      <th>22495</th>\n",
              "      <td>It seems like more consideration has gone into...</td>\n",
              "      <td>0</td>\n",
              "    </tr>\n",
              "    <tr>\n",
              "      <th>22496</th>\n",
              "      <td>I don't believe they made this film. Completel...</td>\n",
              "      <td>0</td>\n",
              "    </tr>\n",
              "    <tr>\n",
              "      <th>22497</th>\n",
              "      <td>Guy is a loser. Can't get girls, needs to buil...</td>\n",
              "      <td>0</td>\n",
              "    </tr>\n",
              "    <tr>\n",
              "      <th>22498</th>\n",
              "      <td>This 30 minute documentary BuÃ±uel made in the...</td>\n",
              "      <td>0</td>\n",
              "    </tr>\n",
              "    <tr>\n",
              "      <th>22499</th>\n",
              "      <td>I saw this movie as a child and it broke my he...</td>\n",
              "      <td>1</td>\n",
              "    </tr>\n",
              "  </tbody>\n",
              "</table>\n",
              "<p>22500 rows × 2 columns</p>\n",
              "</div>"
            ],
            "text/plain": [
              "                                                  review  sentiment\n",
              "0      With all this stuff going down at the moment w...          1\n",
              "1      \\The Classic War of the Worlds\\\" by Timothy Hi...          1\n",
              "2      The film starts with a manager (Nicholas Bell)...          0\n",
              "3      It must be assumed that those who praised this...          0\n",
              "4      Superbly trashy and wondrously unpretentious 8...          1\n",
              "...                                                  ...        ...\n",
              "22495  It seems like more consideration has gone into...          0\n",
              "22496  I don't believe they made this film. Completel...          0\n",
              "22497  Guy is a loser. Can't get girls, needs to buil...          0\n",
              "22498  This 30 minute documentary BuÃ±uel made in the...          0\n",
              "22499  I saw this movie as a child and it broke my he...          1\n",
              "\n",
              "[22500 rows x 2 columns]"
            ]
          },
          "metadata": {
            "tags": []
          },
          "execution_count": 99
        }
      ]
    },
    {
      "cell_type": "code",
      "metadata": {
        "id": "RLtA_3g6UDkR",
        "colab_type": "code",
        "outputId": "45edf724-6e7c-45cf-9c9c-bed2dc910833",
        "colab": {
          "base_uri": "https://localhost:8080/"
        }
      },
      "source": [
        "# Check for duplicate review -> there are duplicated review (could be fake reviews)\n",
        "# We will check some sample of duplicate review\n",
        "df['review'].count() == df['review'].nunique()\n"
      ],
      "execution_count": 0,
      "outputs": [
        {
          "output_type": "execute_result",
          "data": {
            "text/plain": [
              "False"
            ]
          },
          "metadata": {
            "tags": []
          },
          "execution_count": 100
        }
      ]
    },
    {
      "cell_type": "code",
      "metadata": {
        "id": "xt74h9TxUONc",
        "colab_type": "code",
        "outputId": "50ee86ad-b58b-4dfb-8e64-dddb03a5c1b2",
        "colab": {
          "base_uri": "https://localhost:8080/"
        }
      },
      "source": [
        "# Sort the df base Columns review & Separate the duplicated review to check\n",
        "df.sort_values('review', inplace = True)\n",
        "df"
      ],
      "execution_count": 0,
      "outputs": [
        {
          "output_type": "execute_result",
          "data": {
            "text/html": [
              "<div>\n",
              "<style scoped>\n",
              "    .dataframe tbody tr th:only-of-type {\n",
              "        vertical-align: middle;\n",
              "    }\n",
              "\n",
              "    .dataframe tbody tr th {\n",
              "        vertical-align: top;\n",
              "    }\n",
              "\n",
              "    .dataframe thead th {\n",
              "        text-align: right;\n",
              "    }\n",
              "</style>\n",
              "<table border=\"1\" class=\"dataframe\">\n",
              "  <thead>\n",
              "    <tr style=\"text-align: right;\">\n",
              "      <th></th>\n",
              "      <th>review</th>\n",
              "      <th>sentiment</th>\n",
              "    </tr>\n",
              "  </thead>\n",
              "  <tbody>\n",
              "    <tr>\n",
              "      <th>7381</th>\n",
              "      <td>\b\b\b\bA Turkish Bath sequence in a film noir loc...</td>\n",
              "      <td>1</td>\n",
              "    </tr>\n",
              "    <tr>\n",
              "      <th>318</th>\n",
              "      <td>!!!! POSSIBLE MILD SPOILER !!!!!&lt;br /&gt;&lt;br /&gt;As...</td>\n",
              "      <td>0</td>\n",
              "    </tr>\n",
              "    <tr>\n",
              "      <th>5741</th>\n",
              "      <td>!!!!! OF COURSE THERE'S SPOILERS !!!!! I'm sur...</td>\n",
              "      <td>0</td>\n",
              "    </tr>\n",
              "    <tr>\n",
              "      <th>7836</th>\n",
              "      <td>!!!!! POSSIBLE SPOILER !!!!!&lt;br /&gt;&lt;br /&gt;You`d ...</td>\n",
              "      <td>0</td>\n",
              "    </tr>\n",
              "    <tr>\n",
              "      <th>378</th>\n",
              "      <td>### Spoilers! ### &lt;br /&gt;&lt;br /&gt;What is this mov...</td>\n",
              "      <td>0</td>\n",
              "    </tr>\n",
              "    <tr>\n",
              "      <th>...</th>\n",
              "      <td>...</td>\n",
              "      <td>...</td>\n",
              "    </tr>\n",
              "    <tr>\n",
              "      <th>3403</th>\n",
              "      <td>you must be seeing my comments over many films...</td>\n",
              "      <td>0</td>\n",
              "    </tr>\n",
              "    <tr>\n",
              "      <th>19068</th>\n",
              "      <td>zero day is based of columbine high school mas...</td>\n",
              "      <td>1</td>\n",
              "    </tr>\n",
              "    <tr>\n",
              "      <th>17180</th>\n",
              "      <td>{Possible spoilers coming up... you've been fo...</td>\n",
              "      <td>1</td>\n",
              "    </tr>\n",
              "    <tr>\n",
              "      <th>10232</th>\n",
              "      <td>{rant start} I didn't want to believe them at ...</td>\n",
              "      <td>0</td>\n",
              "    </tr>\n",
              "    <tr>\n",
              "      <th>4602</th>\n",
              "      <td>~~I was able to see this movie yesterday morni...</td>\n",
              "      <td>1</td>\n",
              "    </tr>\n",
              "  </tbody>\n",
              "</table>\n",
              "<p>22500 rows × 2 columns</p>\n",
              "</div>"
            ],
            "text/plain": [
              "                                                  review  sentiment\n",
              "7381   \b\b\b\bA Turkish Bath sequence in a film noir loc...          1\n",
              "318    !!!! POSSIBLE MILD SPOILER !!!!!<br /><br />As...          0\n",
              "5741   !!!!! OF COURSE THERE'S SPOILERS !!!!! I'm sur...          0\n",
              "7836   !!!!! POSSIBLE SPOILER !!!!!<br /><br />You`d ...          0\n",
              "378    ### Spoilers! ### <br /><br />What is this mov...          0\n",
              "...                                                  ...        ...\n",
              "3403   you must be seeing my comments over many films...          0\n",
              "19068  zero day is based of columbine high school mas...          1\n",
              "17180  {Possible spoilers coming up... you've been fo...          1\n",
              "10232  {rant start} I didn't want to believe them at ...          0\n",
              "4602   ~~I was able to see this movie yesterday morni...          1\n",
              "\n",
              "[22500 rows x 2 columns]"
            ]
          },
          "metadata": {
            "tags": []
          },
          "execution_count": 101
        }
      ]
    },
    {
      "cell_type": "code",
      "metadata": {
        "id": "8HWBwY-FWVcC",
        "colab_type": "code",
        "colab": {}
      },
      "source": [
        "check = df[df.duplicated()]"
      ],
      "execution_count": 0,
      "outputs": []
    },
    {
      "cell_type": "code",
      "metadata": {
        "id": "2B4flo4bZyL6",
        "colab_type": "code",
        "outputId": "0f9fde00-bdb2-4708-8f90-6c66e8c39e0a",
        "colab": {
          "base_uri": "https://localhost:8080/"
        }
      },
      "source": [
        "check\n",
        "# Look like therer is no duplicate review"
      ],
      "execution_count": 0,
      "outputs": [
        {
          "output_type": "execute_result",
          "data": {
            "text/html": [
              "<div>\n",
              "<style scoped>\n",
              "    .dataframe tbody tr th:only-of-type {\n",
              "        vertical-align: middle;\n",
              "    }\n",
              "\n",
              "    .dataframe tbody tr th {\n",
              "        vertical-align: top;\n",
              "    }\n",
              "\n",
              "    .dataframe thead th {\n",
              "        text-align: right;\n",
              "    }\n",
              "</style>\n",
              "<table border=\"1\" class=\"dataframe\">\n",
              "  <thead>\n",
              "    <tr style=\"text-align: right;\">\n",
              "      <th></th>\n",
              "      <th>review</th>\n",
              "      <th>sentiment</th>\n",
              "    </tr>\n",
              "  </thead>\n",
              "  <tbody>\n",
              "    <tr>\n",
              "      <th>13252</th>\n",
              "      <td>'Dead Letter Office' is a low-budget film abou...</td>\n",
              "      <td>0</td>\n",
              "    </tr>\n",
              "    <tr>\n",
              "      <th>6311</th>\n",
              "      <td>.......Playing Kaddiddlehopper, Col San Fernan...</td>\n",
              "      <td>1</td>\n",
              "    </tr>\n",
              "    <tr>\n",
              "      <th>19066</th>\n",
              "      <td>&lt;br /&gt;&lt;br /&gt;Back in his youth, the old man had...</td>\n",
              "      <td>0</td>\n",
              "    </tr>\n",
              "    <tr>\n",
              "      <th>6658</th>\n",
              "      <td>A have a female friend who is currently being ...</td>\n",
              "      <td>1</td>\n",
              "    </tr>\n",
              "    <tr>\n",
              "      <th>4441</th>\n",
              "      <td>A longtime fan of Bette Midler, I must say her...</td>\n",
              "      <td>1</td>\n",
              "    </tr>\n",
              "    <tr>\n",
              "      <th>...</th>\n",
              "      <td>...</td>\n",
              "      <td>...</td>\n",
              "    </tr>\n",
              "    <tr>\n",
              "      <th>2783</th>\n",
              "      <td>Wow, here it finally is; the action \\movie\\\" w...</td>\n",
              "      <td>0</td>\n",
              "    </tr>\n",
              "    <tr>\n",
              "      <th>20989</th>\n",
              "      <td>You do realize that you've been watching the E...</td>\n",
              "      <td>0</td>\n",
              "    </tr>\n",
              "    <tr>\n",
              "      <th>2415</th>\n",
              "      <td>in this movie, joe pesci slams dunks a basketb...</td>\n",
              "      <td>0</td>\n",
              "    </tr>\n",
              "    <tr>\n",
              "      <th>20020</th>\n",
              "      <td>it's amazing that so many people that i know h...</td>\n",
              "      <td>1</td>\n",
              "    </tr>\n",
              "    <tr>\n",
              "      <th>11203</th>\n",
              "      <td>this movie begins with an ordinary funeral... ...</td>\n",
              "      <td>0</td>\n",
              "    </tr>\n",
              "  </tbody>\n",
              "</table>\n",
              "<p>75 rows × 2 columns</p>\n",
              "</div>"
            ],
            "text/plain": [
              "                                                  review  sentiment\n",
              "13252  'Dead Letter Office' is a low-budget film abou...          0\n",
              "6311   .......Playing Kaddiddlehopper, Col San Fernan...          1\n",
              "19066  <br /><br />Back in his youth, the old man had...          0\n",
              "6658   A have a female friend who is currently being ...          1\n",
              "4441   A longtime fan of Bette Midler, I must say her...          1\n",
              "...                                                  ...        ...\n",
              "2783   Wow, here it finally is; the action \\movie\\\" w...          0\n",
              "20989  You do realize that you've been watching the E...          0\n",
              "2415   in this movie, joe pesci slams dunks a basketb...          0\n",
              "20020  it's amazing that so many people that i know h...          1\n",
              "11203  this movie begins with an ordinary funeral... ...          0\n",
              "\n",
              "[75 rows x 2 columns]"
            ]
          },
          "metadata": {
            "tags": []
          },
          "execution_count": 103
        }
      ]
    },
    {
      "cell_type": "markdown",
      "metadata": {
        "id": "Hn0zwE0H2_u4",
        "colab_type": "text"
      },
      "source": [
        "# Prediction model"
      ]
    },
    {
      "cell_type": "markdown",
      "metadata": {
        "id": "4xXMKpX9qv4G",
        "colab_type": "text"
      },
      "source": [
        "## Step 1: Data Cleaning"
      ]
    },
    {
      "cell_type": "code",
      "metadata": {
        "id": "320tifd_3Afu",
        "colab_type": "code",
        "outputId": "1e855d5b-e7d3-4f4f-bff5-3c67f8e30210",
        "colab": {
          "base_uri": "https://localhost:8080/",
          "height": 204
        }
      },
      "source": [
        "# The special character could be recognize as part of the word & confuse our model\n",
        "# So we need to clean these special characters (astrophoe,the comma,..)\n",
        "df.sample(5)"
      ],
      "execution_count": 0,
      "outputs": [
        {
          "output_type": "execute_result",
          "data": {
            "text/html": [
              "<div>\n",
              "<style scoped>\n",
              "    .dataframe tbody tr th:only-of-type {\n",
              "        vertical-align: middle;\n",
              "    }\n",
              "\n",
              "    .dataframe tbody tr th {\n",
              "        vertical-align: top;\n",
              "    }\n",
              "\n",
              "    .dataframe thead th {\n",
              "        text-align: right;\n",
              "    }\n",
              "</style>\n",
              "<table border=\"1\" class=\"dataframe\">\n",
              "  <thead>\n",
              "    <tr style=\"text-align: right;\">\n",
              "      <th></th>\n",
              "      <th>review</th>\n",
              "      <th>sentiment</th>\n",
              "    </tr>\n",
              "  </thead>\n",
              "  <tbody>\n",
              "    <tr>\n",
              "      <th>19023</th>\n",
              "      <td>I thought Hedy Burress (who managed to escape ...</td>\n",
              "      <td>0</td>\n",
              "    </tr>\n",
              "    <tr>\n",
              "      <th>10478</th>\n",
              "      <td>This is even worse than the original Game of D...</td>\n",
              "      <td>0</td>\n",
              "    </tr>\n",
              "    <tr>\n",
              "      <th>16381</th>\n",
              "      <td>Even by 1942 standards of movie-making the set...</td>\n",
              "      <td>0</td>\n",
              "    </tr>\n",
              "    <tr>\n",
              "      <th>21254</th>\n",
              "      <td>After viewing the film, I was truly shocked to...</td>\n",
              "      <td>0</td>\n",
              "    </tr>\n",
              "    <tr>\n",
              "      <th>10590</th>\n",
              "      <td>Early film directed by D.W. Griffith; it featu...</td>\n",
              "      <td>0</td>\n",
              "    </tr>\n",
              "  </tbody>\n",
              "</table>\n",
              "</div>"
            ],
            "text/plain": [
              "                                                  review  sentiment\n",
              "19023  I thought Hedy Burress (who managed to escape ...          0\n",
              "10478  This is even worse than the original Game of D...          0\n",
              "16381  Even by 1942 standards of movie-making the set...          0\n",
              "21254  After viewing the film, I was truly shocked to...          0\n",
              "10590  Early film directed by D.W. Griffith; it featu...          0"
            ]
          },
          "metadata": {
            "tags": []
          },
          "execution_count": 104
        }
      ]
    },
    {
      "cell_type": "code",
      "metadata": {
        "id": "Fm6WVKu5stGW",
        "colab_type": "code",
        "colab": {}
      },
      "source": [
        "# Overall look at the most common words\n",
        "from collections import Counter\n",
        "vocab = Counter()\n",
        "\n",
        "for document in df['review']:\n",
        "  for word in document.split(' '):\n",
        "    vocab[word] += 1"
      ],
      "execution_count": 0,
      "outputs": []
    },
    {
      "cell_type": "code",
      "metadata": {
        "id": "FWeWB8pkstah",
        "colab_type": "code",
        "outputId": "33f0be23-cc94-4106-f5c0-4182cb618af6",
        "colab": {
          "base_uri": "https://localhost:8080/",
          "height": 357
        }
      },
      "source": [
        "vocab.most_common(20)"
      ],
      "execution_count": 0,
      "outputs": [
        {
          "output_type": "execute_result",
          "data": {
            "text/plain": [
              "[('the', 258519),\n",
              " ('a', 139707),\n",
              " ('and', 137397),\n",
              " ('of', 128750),\n",
              " ('to', 119278),\n",
              " ('is', 92935),\n",
              " ('in', 77245),\n",
              " ('I', 59255),\n",
              " ('that', 57991),\n",
              " ('this', 51379),\n",
              " ('it', 48865),\n",
              " ('/><br', 45851),\n",
              " ('was', 42004),\n",
              " ('as', 38288),\n",
              " ('with', 37496),\n",
              " ('for', 36919),\n",
              " ('The', 30399),\n",
              " ('but', 30350),\n",
              " ('on', 27738),\n",
              " ('movie', 27342)]"
            ]
          },
          "metadata": {
            "tags": []
          },
          "execution_count": 106
        }
      ]
    },
    {
      "cell_type": "code",
      "metadata": {
        "id": "hlt9dv3kOxCT",
        "colab_type": "code",
        "outputId": "4c0e96e9-c7e2-4354-f5bc-3f744e75ac1c",
        "colab": {
          "base_uri": "https://localhost:8080/",
          "height": 187
        }
      },
      "source": [
        "# Initiate stop word on current vocab so check for error\n",
        "from nltk.corpus import stopwords\n",
        "\n",
        "stop = stopwords.words('english')\n",
        "vocab_reduced = Counter()\n",
        "\n",
        "for word, count in vocab.items():\n",
        "  if not word in stop:\n",
        "    vocab_reduced[word] = count\n",
        "\n",
        "vocab_reduced.most_common(10)"
      ],
      "execution_count": 0,
      "outputs": [
        {
          "output_type": "execute_result",
          "data": {
            "text/plain": [
              "[('I', 59255),\n",
              " ('/><br', 45851),\n",
              " ('The', 30399),\n",
              " ('movie', 27342),\n",
              " ('film', 24768),\n",
              " ('one', 18704),\n",
              " ('like', 16278),\n",
              " ('This', 11074),\n",
              " ('would', 10720),\n",
              " ('good', 10243)]"
            ]
          },
          "metadata": {
            "tags": []
          },
          "execution_count": 107
        }
      ]
    },
    {
      "cell_type": "code",
      "metadata": {
        "id": "Q5DntGgqstgn",
        "colab_type": "code",
        "outputId": "b445a68b-ba3e-41ef-a1f2-6c90c820d188",
        "colab": {
          "base_uri": "https://localhost:8080/",
          "height": 68
        }
      },
      "source": [
        "# download stop word \n",
        "import nltk\n",
        "\n",
        "nltk.download('stopwords')"
      ],
      "execution_count": 0,
      "outputs": [
        {
          "output_type": "stream",
          "text": [
            "[nltk_data] Downloading package stopwords to /root/nltk_data...\n",
            "[nltk_data]   Package stopwords is already up-to-date!\n"
          ],
          "name": "stdout"
        },
        {
          "output_type": "execute_result",
          "data": {
            "text/plain": [
              "True"
            ]
          },
          "metadata": {
            "tags": []
          },
          "execution_count": 108
        }
      ]
    },
    {
      "cell_type": "code",
      "metadata": {
        "id": "j2oQ_HSyjKof",
        "colab_type": "code",
        "colab": {}
      },
      "source": [
        "# Create tokennizer function\n",
        "from nltk.stem import PorterStemmer\n",
        "\n",
        "porter = PorterStemmer()\n",
        "\n",
        "def tokenizer_porter(text):\n",
        "    return [porter.stem(word) for word in text.split()]\n",
        "\n",
        "def tokenizer_stop(text):\n",
        "    return [porter.stem(word) for word in text]"
      ],
      "execution_count": 0,
      "outputs": []
    },
    {
      "cell_type": "markdown",
      "metadata": {
        "id": "kHlHez82W14V",
        "colab_type": "text"
      },
      "source": [
        "## Step 2 : Representation"
      ]
    },
    {
      "cell_type": "code",
      "metadata": {
        "id": "oXDg-7xezja8",
        "colab_type": "code",
        "colab": {}
      },
      "source": [
        "import re\n",
        "from sklearn.feature_extraction.text import TfidfVectorizer\n",
        "\n",
        "\n",
        "#Tokenize the stop word\n",
        "stop = tokenizer_stop(stop)\n",
        "\n",
        "def preprocessor(text):\n",
        "    \"\"\" Return a cleaned version of text\n",
        "    \"\"\"\n",
        "    # Remove HTML markup\n",
        "    text = re.sub('<[^>]*>', '', text)\n",
        "    # Save emoticons for later appending\n",
        "    emoticons = re.findall('(?::|;|=)(?:-)?(?:\\)|\\(|D|P)', text)\n",
        "    # Remove any non-word character and append the emoticons,\n",
        "    # removing the nose character for standarization. Convert to lower case\n",
        "    text = (re.sub('[\\W]+', ' ', text.lower()) + ' ' + ' '.join(emoticons).replace('-', ''))\n",
        "    \n",
        "    return text\n",
        "\n",
        "tfidf = TfidfVectorizer(stop_words=stop,\n",
        "                        tokenizer=tokenizer_porter,\n",
        "                        preprocessor=preprocessor)"
      ],
      "execution_count": 0,
      "outputs": []
    },
    {
      "cell_type": "code",
      "metadata": {
        "id": "EXvVfCA7xTrE",
        "colab_type": "code",
        "outputId": "e56f89cc-6082-4e36-d9db-94cb495d11f7",
        "colab": {
          "base_uri": "https://localhost:8080/",
          "height": 71
        }
      },
      "source": [
        "# Test our processing funtion on 1 random data\n",
        "print(df.loc[8333,'review'])\n",
        "\n",
        "preprocessor(df.loc[8333,'review'])"
      ],
      "execution_count": 0,
      "outputs": [
        {
          "output_type": "stream",
          "text": [
            "To \\Bend It Like Beckham\\\" may not mean much to us Americans who know very little about the other football (soccer), but to English sports fans, it is equivalent to \\\"Hit it Like Bonds\\\" or \\\"Dunk it Like Jordan.\\\" Any young soccer player dreams of bending a soccer ball around one player and into the net for a goal, much like star player David Beckham does, much like the young Indian girl, Jess (Parminder Nagra), does in the film Bend It Like Beckham. Jess loves to play pick up soccer games, the kind forbidden by her traditionalist mother. However, while playing one day, a passing friend named Jules (Keira Knightley) sees her play and invites her to try out for a traveling, all girls soccer team. After satisfying the coach Joe (Jonathan Rhys-Meyers), she makes the team, something she knows her mother would not approve of. The movie is not about disobeying parents, but rather a girl doing what she wants to do, even if that goes against culture, not just the parents. There is humor thrown throughout the movie, especially when Jules' mother thinks she's a lesbian. The movie does resort to a bit of a clichÃ© moment, as the big soccer game is the same day as Jess' sister's wedding, but it does not come off a cheesy, but rather fun and light. The soccer action looks good, so sports fans will enjoy it, and a story about girls growing up in a boy's world, the world of soccer will inspire some in the audience. Bend It Like Beckham is not just about soccer, but rather a girl trying to find herself and please her parents at the same time, something that proves to be rather difficult.\"\n"
          ],
          "name": "stdout"
        },
        {
          "output_type": "execute_result",
          "data": {
            "text/plain": [
              "'to bend it like beckham may not mean much to us americans who know very little about the other football soccer but to english sports fans it is equivalent to hit it like bonds or dunk it like jordan any young soccer player dreams of bending a soccer ball around one player and into the net for a goal much like star player david beckham does much like the young indian girl jess parminder nagra does in the film bend it like beckham jess loves to play pick up soccer games the kind forbidden by her traditionalist mother however while playing one day a passing friend named jules keira knightley sees her play and invites her to try out for a traveling all girls soccer team after satisfying the coach joe jonathan rhys meyers she makes the team something she knows her mother would not approve of the movie is not about disobeying parents but rather a girl doing what she wants to do even if that goes against culture not just the parents there is humor thrown throughout the movie especially when jules mother thinks she s a lesbian the movie does resort to a bit of a clichã moment as the big soccer game is the same day as jess sister s wedding but it does not come off a cheesy but rather fun and light the soccer action looks good so sports fans will enjoy it and a story about girls growing up in a boy s world the world of soccer will inspire some in the audience bend it like beckham is not just about soccer but rather a girl trying to find herself and please her parents at the same time something that proves to be rather difficult  '"
            ]
          },
          "metadata": {
            "tags": []
          },
          "execution_count": 111
        }
      ]
    },
    {
      "cell_type": "markdown",
      "metadata": {
        "id": "sykDJEtD0I0P",
        "colab_type": "text"
      },
      "source": [
        "## Step 3: Classification"
      ]
    },
    {
      "cell_type": "code",
      "metadata": {
        "id": "quMv4bXNLguD",
        "colab_type": "code",
        "colab": {}
      },
      "source": [
        "# split the dataset in train and test\n",
        "\n",
        "from sklearn.model_selection import train_test_split\n",
        "\n",
        "X = df['review']\n",
        "\n",
        "y = df['sentiment']\n",
        "\n",
        "X_train, X_test, y_train, y_test = train_test_split(X, y , test_size = 0.2)"
      ],
      "execution_count": 0,
      "outputs": []
    },
    {
      "cell_type": "code",
      "metadata": {
        "id": "rMA_qTW5LguJ",
        "colab_type": "code",
        "outputId": "dd905ff8-4b14-4b27-924b-b8d2f255616d",
        "colab": {
          "base_uri": "https://localhost:8080/",
          "height": 462
        }
      },
      "source": [
        "from sklearn.pipeline import Pipeline\n",
        "from sklearn.linear_model import LogisticRegression\n",
        "\n",
        "# A pipeline is what chains several steps together, once the initial exploration is done. \n",
        "# For example, some codes are meant to transform features — normalise numericals, or turn text into vectors, \n",
        "# or fill up missing data, they are transformers; other codes are meant to predict variables by fitting an algorithm,\n",
        "# they are estimators. Pipeline chains all these together which can then be applied to training data\n",
        "clf = Pipeline([('vect', tfidf),\n",
        "                ('clf', LogisticRegression(random_state=0))])\n",
        "\n",
        "clf.fit(X_train, y_train)"
      ],
      "execution_count": 0,
      "outputs": [
        {
          "output_type": "stream",
          "text": [
            "/usr/local/lib/python3.6/dist-packages/sklearn/feature_extraction/text.py:385: UserWarning: Your stop_words may be inconsistent with your preprocessing. Tokenizing the stop words generated tokens ['becau', 'r', 'v'] not in stop_words.\n",
            "  'stop_words.' % sorted(inconsistent))\n"
          ],
          "name": "stderr"
        },
        {
          "output_type": "execute_result",
          "data": {
            "text/plain": [
              "Pipeline(memory=None,\n",
              "         steps=[('vect',\n",
              "                 TfidfVectorizer(analyzer='word', binary=False,\n",
              "                                 decode_error='strict',\n",
              "                                 dtype=<class 'numpy.float64'>,\n",
              "                                 encoding='utf-8', input='content',\n",
              "                                 lowercase=True, max_df=1.0, max_features=None,\n",
              "                                 min_df=1, ngram_range=(1, 1), norm='l2',\n",
              "                                 preprocessor=<function preprocessor at 0x7fe12e8b2378>,\n",
              "                                 smooth_idf=True,\n",
              "                                 stop_words=['i', 'me', 'my', 'myself', '...\n",
              "                                 token_pattern='(?u)\\\\b\\\\w\\\\w+\\\\b',\n",
              "                                 tokenizer=<function tokenizer_porter at 0x7fe12efdeae8>,\n",
              "                                 use_idf=True, vocabulary=None)),\n",
              "                ('clf',\n",
              "                 LogisticRegression(C=1.0, class_weight=None, dual=False,\n",
              "                                    fit_intercept=True, intercept_scaling=1,\n",
              "                                    l1_ratio=None, max_iter=100,\n",
              "                                    multi_class='auto', n_jobs=None,\n",
              "                                    penalty='l2', random_state=0,\n",
              "                                    solver='lbfgs', tol=0.0001, verbose=0,\n",
              "                                    warm_start=False))],\n",
              "         verbose=False)"
            ]
          },
          "metadata": {
            "tags": []
          },
          "execution_count": 114
        }
      ]
    },
    {
      "cell_type": "code",
      "metadata": {
        "id": "yonP8E3vLguL",
        "colab_type": "code",
        "outputId": "20323497-cca5-40c2-9bd9-47847682b7f4",
        "colab": {
          "base_uri": "https://localhost:8080/",
          "height": 34
        }
      },
      "source": [
        "from sklearn.metrics import accuracy_score, confusion_matrix, classification_report\n",
        "\n",
        "# Now apply those above metrics to evaluate your model\n",
        "\n",
        "predictions = clf.predict(X_test)\n",
        "accuracy_score(y_test, predictions)"
      ],
      "execution_count": 0,
      "outputs": [
        {
          "output_type": "execute_result",
          "data": {
            "text/plain": [
              "0.8848888888888888"
            ]
          },
          "metadata": {
            "tags": []
          },
          "execution_count": 115
        }
      ]
    },
    {
      "cell_type": "code",
      "metadata": {
        "id": "MmaY3lyrX_p5",
        "colab_type": "code",
        "outputId": "242bda9d-a6d3-45b2-c0c8-2e72f434c0c5",
        "colab": {
          "base_uri": "https://localhost:8080/",
          "height": 170
        }
      },
      "source": [
        "print(classification_report(y_test, predictions))"
      ],
      "execution_count": 0,
      "outputs": [
        {
          "output_type": "stream",
          "text": [
            "              precision    recall  f1-score   support\n",
            "\n",
            "           0       0.90      0.87      0.88      2267\n",
            "           1       0.87      0.90      0.89      2233\n",
            "\n",
            "    accuracy                           0.88      4500\n",
            "   macro avg       0.89      0.89      0.88      4500\n",
            "weighted avg       0.89      0.88      0.88      4500\n",
            "\n"
          ],
          "name": "stdout"
        }
      ]
    },
    {
      "cell_type": "code",
      "metadata": {
        "id": "03XOz8x4cUfZ",
        "colab_type": "code",
        "colab": {}
      },
      "source": [
        "# Create dataframe of test data & prediction result\n",
        "pred_result = pd.DataFrame(data={'test_data': list(y_test) , 'predict_result': list(predictions)})"
      ],
      "execution_count": 0,
      "outputs": []
    },
    {
      "cell_type": "code",
      "metadata": {
        "id": "1demrkrmdx9L",
        "colab_type": "code",
        "colab": {}
      },
      "source": [
        "# Export the pred_result to csv\n",
        "pred_result.to_csv('tuananh.csv')"
      ],
      "execution_count": 0,
      "outputs": []
    },
    {
      "cell_type": "markdown",
      "metadata": {
        "id": "qKfiaDbsa8-U",
        "colab_type": "text"
      },
      "source": [
        "## Model testing"
      ]
    },
    {
      "cell_type": "code",
      "metadata": {
        "id": "qcgsonCxLguO",
        "colab_type": "code",
        "outputId": "d7e6c078-3024-42b2-93ce-eb346fe5dd99",
        "colab": {
          "base_uri": "https://localhost:8080/",
          "height": 68
        }
      },
      "source": [
        "review_test = [\n",
        "    \"Not the worst spoof movie that's been made, but it is a big disappointment.\",\n",
        "    \"I love this but would not recommend the movie for children\",\n",
        "    \":) this movie sucks so badly\",\n",
        "]\n",
        "\n",
        "preds = clf.predict_proba(review_test)\n",
        "\n",
        "for i in range(len(review_test)):\n",
        "    print(f'{i} --> Negative, Positive = {preds[i]}')"
      ],
      "execution_count": 0,
      "outputs": [
        {
          "output_type": "stream",
          "text": [
            "0 --> Negative, Positive = [0.99407121 0.00592879]\n",
            "1 --> Negative, Positive = [0.16647525 0.83352475]\n",
            "2 --> Negative, Positive = [0.84328114 0.15671886]\n"
          ],
          "name": "stdout"
        }
      ]
    }
  ]
}